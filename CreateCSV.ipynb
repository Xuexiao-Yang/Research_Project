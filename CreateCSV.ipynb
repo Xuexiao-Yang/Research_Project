{
 "cells": [
  {
   "cell_type": "markdown",
   "metadata": {
    "collapsed": true,
    "deletable": true,
    "editable": true
   },
   "source": [
    "CSV_processes"
   ]
  },
  {
   "cell_type": "code",
   "execution_count": null,
   "metadata": {
    "collapsed": true,
    "deletable": true,
    "editable": true
   },
   "outputs": [],
   "source": [
    "import csv \n",
    "\n",
    "real_data = []\n",
    "post_data = []\n",
    "\n",
    "with open('real_data.csv','r') as f1:\n",
    "    f1_csv = csv.reader(f1)\n",
    "    for row in f1_csv:\n",
    "        real_data.append(row)\n",
    "        \n",
    "with open('PostOct1113.csv','r') as f2:\n",
    "    f2_csv = csv.reader(f2)\n",
    "    for row in f2_csv:\n",
    "        post_data.append(row)       "
   ]
  },
  {
   "cell_type": "code",
   "execution_count": null,
   "metadata": {
    "collapsed": true,
    "deletable": true,
    "editable": true
   },
   "outputs": [],
   "source": [
    "newRow = []\n",
    "for row1 in real_data:\n",
    "    tempRow = []\n",
    "    postCode = row1[0]\n",
    "    patient_num = row1[1]\n",
    "    for row2 in post_data:\n",
    "        tweets = row2[1]\n",
    "        if postCode == row2[0]:\n",
    "            if patient_num != 0:\n",
    "                tempRow.append(postCode)\n",
    "                tempRow.append(patient_num)\n",
    "                tempRow.append(tweets)\n",
    "                \n",
    "    if tempRow == []:\n",
    "        pass\n",
    "    else:\n",
    "        newRow.append(tempRow)"
   ]
  },
  {
   "cell_type": "code",
   "execution_count": null,
   "metadata": {
    "collapsed": true,
    "deletable": true,
    "editable": true
   },
   "outputs": [],
   "source": [
    "with open('compare3.csv', 'wb') as f3:\n",
    "    filewriter = csv.writer(f3)\n",
    "    for row in newRow:\n",
    "        filewriter.writerow(row)"
   ]
  },
  {
   "cell_type": "markdown",
   "metadata": {
    "deletable": true,
    "editable": true
   },
   "source": [
    "Computing the Pearson Coorelation"
   ]
  },
  {
   "cell_type": "code",
   "execution_count": null,
   "metadata": {
    "collapsed": true,
    "deletable": true,
    "editable": true
   },
   "outputs": [],
   "source": [
    "\n",
    "from scipy import stats\n",
    "from numpy import corrcoef"
   ]
  },
  {
   "cell_type": "code",
   "execution_count": null,
   "metadata": {
    "collapsed": false,
    "deletable": true,
    "editable": true
   },
   "outputs": [],
   "source": [
    "import csv\n",
    "list1 = []\n",
    "list2 = []\n",
    "with open('compare2.csv','r') as f4:\n",
    "    f1_csv = csv.reader(f4)\n",
    "    for row in f1_csv:\n",
    "        list1.append(int(row[1]))\n",
    "        list2.append(int(row[2]))"
   ]
  },
  {
   "cell_type": "code",
   "execution_count": null,
   "metadata": {
    "collapsed": false,
    "deletable": true,
    "editable": true
   },
   "outputs": [],
   "source": [
    "import csv \n",
    "\n",
    "sydP = 0\n",
    "sydT = 0\n",
    "MelP = 0\n",
    "MelT = 0\n",
    "AdeP = 0\n",
    "AdeT = 0\n",
    "PerP = 0\n",
    "PerT = 0\n",
    "BriP = 0\n",
    "BriT = 0\n",
    "with open('compare2.csv','r') as f5:\n",
    "    f1_csv = csv.reader(f5)\n",
    "    for row in f1_csv:\n",
    "        if row[3] == 'Sydney':\n",
    "            sydP += int(row[1])\n",
    "            sydT += int(row[2])\n",
    "        if row[3] == 'Melbourne':\n",
    "            MelP += int(row[1])\n",
    "            MelT += int(row[2])\n",
    "        if row[3] == 'Adelaide':\n",
    "            AdeP += int(row[1])\n",
    "            AdeT += int(row[2])\n",
    "        if row[3] == 'Perth':\n",
    "            PerP += int(row[1])\n",
    "            PerT += int(row[2])\n",
    "        if row[3] == 'Brisbane':\n",
    "            BriP += int(row[1])\n",
    "            BriT += int(row[2])\n",
    "\n",
    "list1 = [sydP,MelP,AdeP,PerP,BriP]\n",
    "list2 = [sydT,MelT,AdeT,PerT,BriT]\n",
    "\n",
    "from scipy import stats\n",
    "from numpy import corrcoef\n",
    "\n",
    "stats.pearsonr(list1,list2)"
   ]
  },
  {
   "cell_type": "markdown",
   "metadata": {
    "collapsed": true,
    "deletable": true,
    "editable": true
   },
   "source": [
    "Original Patients-TwitterUsers number Process"
   ]
  },
  {
   "cell_type": "code",
   "execution_count": null,
   "metadata": {
    "collapsed": false,
    "deletable": true,
    "editable": true
   },
   "outputs": [],
   "source": [
    "from scipy import stats\n",
    "from numpy import corrcoef\n",
    "import csv\n",
    "list1 = []\n",
    "list2 = []\n",
    "newRow = []\n",
    "\n",
    "with open('compare2.csv','r') as f6:\n",
    "    f1_csv = csv.reader(f6)\n",
    "    for row in f1_csv:\n",
    "        if 10 * int(row[2]) < int(row[1]):\n",
    "            pass\n",
    "        elif (int(row[1])) > (int(row[2])):\n",
    "#         elif (int(row[2])) > 2:\n",
    "#         else:\n",
    "            tempRow = []\n",
    "            list1.append(int(row[1]))\n",
    "            list2.append(int(row[2]))\n",
    "            tempRow.append(row[0])\n",
    "            tempRow.append(int(row[1]))\n",
    "            tempRow.append(int(row[2]))\n",
    "            newRow.append(tempRow)\n"
   ]
  },
  {
   "cell_type": "code",
   "execution_count": null,
   "metadata": {
    "collapsed": false,
    "deletable": true,
    "editable": true
   },
   "outputs": [],
   "source": [
    "print len(list1)"
   ]
  },
  {
   "cell_type": "code",
   "execution_count": null,
   "metadata": {
    "collapsed": false,
    "deletable": true,
    "editable": true
   },
   "outputs": [],
   "source": [
    "stats.pearsonr(list1,list2)"
   ]
  },
  {
   "cell_type": "code",
   "execution_count": null,
   "metadata": {
    "collapsed": true,
    "deletable": true,
    "editable": true
   },
   "outputs": [],
   "source": [
    "with open('compareX4.csv', 'wb') as f7:\n",
    "    filewriter = csv.writer(f7)\n",
    "    for row in newRow:\n",
    "        filewriter.writerow(row)"
   ]
  },
  {
   "cell_type": "markdown",
   "metadata": {
    "collapsed": true,
    "deletable": true,
    "editable": true
   },
   "source": [
    "Creating the TwitterUser-Economic Index CSV"
   ]
  },
  {
   "cell_type": "code",
   "execution_count": null,
   "metadata": {
    "collapsed": false,
    "deletable": true,
    "editable": true
   },
   "outputs": [],
   "source": [
    "import csv\n",
    "from scipy import stats\n",
    "from numpy import corrcoef\n",
    "\n",
    "post_data = []\n",
    "with open('compareX3.csv','r') as f1:\n",
    "    f1_csv = csv.reader(f1)\n",
    "    for row in f1_csv:\n",
    "        post_data.append(row)\n",
    "\n",
    "SA2_data = []       \n",
    "with open('PostToSA2.csv','r') as f2:\n",
    "    f2_csv = csv.reader(f2)\n",
    "    for row in f2_csv:\n",
    "        SA2_data.append(row)\n",
    "\n",
    "# economic_data = []\n",
    "# with open('SA2Economic.csv','r') as f3:\n",
    "#     f3_csv = csv.reader(f3)\n",
    "#     for row in f3_csv:\n",
    "#         economic_data.append(row)\n",
    "\n",
    "ethnicity_data = []\n",
    "with open('ChnGerSpanish.csv','r') as f3:\n",
    "    f3_csv = csv.reader(f3)\n",
    "    for row in f3_csv:\n",
    "        ethnicity_data.append(row)\n",
    "\n",
    "# children_data = []\n",
    "# with open('children_num.csv','r') as f3:\n",
    "#     f3_csv = csv.reader(f3)\n",
    "#     for row in f3_csv:\n",
    "#         children_data.append(row)\n"
   ]
  },
  {
   "cell_type": "code",
   "execution_count": null,
   "metadata": {
    "collapsed": false,
    "deletable": true,
    "editable": true
   },
   "outputs": [],
   "source": [
    "print post_data[0]\n",
    "print SA2_data[0]\n",
    "# print economic_data[0]\n",
    "print ethnicity_data[0]\n",
    "# print children_data[0]"
   ]
  },
  {
   "cell_type": "code",
   "execution_count": null,
   "metadata": {
    "collapsed": true,
    "deletable": true,
    "editable": true
   },
   "outputs": [],
   "source": [
    "def PostToSA2(postcode):\n",
    "    best_ratio = 0.0\n",
    "    SA2_name = ''\n",
    "    for row in SA2_data:\n",
    "        if int(row[0]) == int(postcode):\n",
    "            if float(row[2]) > best_ratio:\n",
    "                SA2_name = row[1]\n",
    "                best_ratio = float(row[2])\n",
    "    return SA2_name\n",
    "\n",
    "# def GetScore(SA2_name):\n",
    "#     for row in economic_data:\n",
    "#         if SA2_name == row[1]:\n",
    "#             return row[0]\n",
    "\n",
    "def GetEthnicity(SA2_name):\n",
    "    for row in ethnicity_data:\n",
    "        if SA2_name == row[3]:\n",
    "            return row[2]\n",
    "\n",
    "# def GetNumber(SA2_name):\n",
    "#     for row in children_data:\n",
    "#         if SA2_name == row[1]:\n",
    "#             return row[0]\n",
    "        "
   ]
  },
  {
   "cell_type": "code",
   "execution_count": null,
   "metadata": {
    "collapsed": false,
    "deletable": true,
    "editable": true
   },
   "outputs": [],
   "source": [
    "newRow = [['Postcode,SA2_name,Patients,TwitterUser,EconomicIndex']]\n",
    "for row in post_data:\n",
    "    tempRow = []\n",
    "    postcode = row[0]\n",
    "    SA2_name = PostToSA2(postcode)\n",
    "    patients = row[1]\n",
    "    twitterUser = row[2]\n",
    "#     EconomicIndex = GetScore(SA2_name)\n",
    "    EthnicityCN = GetEthnicity(SA2_name)\n",
    "#     childrenNum = GetNumber(SA2_name)\n",
    "    tempRow.append(postcode)\n",
    "    tempRow.append(SA2_name)\n",
    "    tempRow.append(patients)\n",
    "    tempRow.append(twitterUser)\n",
    "#     tempRow.append(EconomicIndex)\n",
    "    tempRow.append(EthnicityCN)\n",
    "#     tempRow.append(childrenNum)\n",
    "    newRow.append(tempRow)"
   ]
  },
  {
   "cell_type": "code",
   "execution_count": null,
   "metadata": {
    "collapsed": true,
    "deletable": true,
    "editable": true
   },
   "outputs": [],
   "source": [
    "with open('ethnicity_cn.csv', 'wb') as f2:\n",
    "    filewriter = csv.writer(f2)\n",
    "    for row in newRow:\n",
    "        filewriter.writerow(row)"
   ]
  },
  {
   "cell_type": "code",
   "execution_count": null,
   "metadata": {
    "collapsed": false,
    "deletable": true,
    "editable": true
   },
   "outputs": [],
   "source": [
    "from scipy import stats\n",
    "from numpy import corrcoef\n",
    "import csv\n",
    "list1 = []\n",
    "list2 = []\n",
    "with open('ethnicity_cn.csv','r') as handel:\n",
    "    f3_csv = csv.reader(handel)\n",
    "    for row in f3_csv:\n",
    "        if len(row) > 3:\n",
    "            list1.append(int(row[3]))\n",
    "            list2.append(float(row[4]))"
   ]
  },
  {
   "cell_type": "code",
   "execution_count": null,
   "metadata": {
    "collapsed": false,
    "deletable": true,
    "editable": true
   },
   "outputs": [],
   "source": [
    "stats.pearsonr(list1,list2)"
   ]
  },
  {
   "cell_type": "code",
   "execution_count": null,
   "metadata": {
    "collapsed": true,
    "deletable": true,
    "editable": true
   },
   "outputs": [],
   "source": []
  },
  {
   "cell_type": "code",
   "execution_count": null,
   "metadata": {
    "collapsed": true,
    "deletable": true,
    "editable": true
   },
   "outputs": [],
   "source": []
  }
 ],
 "metadata": {
  "kernelspec": {
   "display_name": "Python 2",
   "language": "python",
   "name": "python2"
  },
  "language_info": {
   "codemirror_mode": {
    "name": "ipython",
    "version": 2
   },
   "file_extension": ".py",
   "mimetype": "text/x-python",
   "name": "python",
   "nbconvert_exporter": "python",
   "pygments_lexer": "ipython2",
   "version": "2.7.11"
  }
 },
 "nbformat": 4,
 "nbformat_minor": 2
}
